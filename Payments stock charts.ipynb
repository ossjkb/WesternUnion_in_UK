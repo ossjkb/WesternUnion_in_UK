{
 "cells": [
  {
   "cell_type": "code",
   "execution_count": 1,
   "metadata": {
    "collapsed": false
   },
   "outputs": [],
   "source": [
    "import pandas as pd\n",
    "import os\n",
    "import matplotlib.pyplot as plt\n",
    "import matplotlib.ticker as mticker\n",
    "import matplotlib.dates as mdates\n",
    "#import seaborn as sns\n",
    "% matplotlib inline"
   ]
  },
  {
   "cell_type": "code",
   "execution_count": 2,
   "metadata": {
    "collapsed": true
   },
   "outputs": [],
   "source": [
    "desktop = \"c:/users/geoffrey/desktop\"\n",
    "os.chdir(desktop)\n",
    "tickers= ['WP','PYPl',\"SQ\",\"GDOT\",\"MA\",\"V\",\"GPN\",\"WU\"]\n",
    "data={}\n",
    "for ticker in tickers:\n",
    "    df=pd.read_csv(ticker+\".csv\", parse_dates=[0]).drop(['Open','Low','Close','Adj Close','Volume'], axis=1)\n",
    "    data[ticker]=df\n"
   ]
  },
  {
   "cell_type": "code",
   "execution_count": 3,
   "metadata": {
    "collapsed": false
   },
   "outputs": [
    {
     "data": {
      "image/png": "[encoded data removed]",
      "text/plain": [
       "<matplotlib.figure.Figure at 0x26fc5958438>"
      ]
     },
     "metadata": {},
     "output_type": "display_data"
    }
   ],
   "source": [
    "#colors from paletton.com base color 51A6F9 \n",
    "font_dict = {'family': 'serif',\n",
    "             'color': 'darkblue',\n",
    "             'size': 9}\n",
    "bbox_props = dict(boxstyle='round,pad=0.5', fc='w', ec='#0C7DEA', lw=1)\n",
    "count=0\n",
    "#fig.clf()\n",
    "fig, axes = plt.subplots(4,2,sharex=True, figsize=(4,2.5))\n",
    "plt.style.use('seaborn')\n",
    "\n",
    "plotnumber = 421\n",
    "for k, df in data.items():\n",
    "    ax = plt.subplot(plotnumber)\n",
    "    x, y = df.Date.dt.to_pydatetime(), df.High\n",
    "    \n",
    "    if k == \"WU\": color, linecolor, alpha = 'orange', 'red', 0.7\n",
    "    else: color, linecolor, alpha = 'royalblue', 'royalblue' , 0.6\n",
    "        \n",
    "    plt.fill_between(x, y, color=color, alpha=alpha)\n",
    "    plt.plot_date(x, y, '-', linewidth=2, color=linecolor,\n",
    "                      alpha=alpha, label=k)\n",
    "    plt.ylim([y.min() * .9, y.max() * 1.01])\n",
    "    ax.xaxis.set_major_formatter(mdates.DateFormatter(\"%Y\"))\n",
    "    ax.xaxis.set_major_locator(mticker.MaxNLocator(nbins=2))\n",
    "    ax.yaxis.set_major_locator(mticker.MaxNLocator(nbins=2))\n",
    "\n",
    "    font_dict = {'family': 'serif',\n",
    "                 'color': 'darkblue',\n",
    "                          'size':11}\n",
    "    bbox_props = dict(boxstyle='round,pad=0.5', fc='w', ec='k', lw=1)\n",
    "    # boxstyle syntax looks wrong but isn't a typo.\n",
    "\n",
    "    ax.text(x[5], y[5], s=k,\n",
    "            fontdict=font_dict,\n",
    "            bbox = bbox_props)  # custom designed dictionary, below\n",
    "    plotnumber += 1\n",
    "\n",
    "fig.tight_layout()"
   ]
  },
  {
   "cell_type": "code",
   "execution_count": 4,
   "metadata": {
    "collapsed": false
   },
   "outputs": [],
   "source": [
    "count=0\n",
    "for k, df in data.items():\n",
    "    x, y = df.Date.dt.to_pydatetime(), df.High\n",
    "    if k == \"WU\": #red\n",
    "        color, linecolor, alpha = 'orange','red', 0.6\n",
    "    else: #blues\n",
    "        color, linecolor, alpha = \"#A9D3FC\", \"#2A91F5\", .6\n",
    "    ax=axes.flat[count]\n",
    "    ax.fill_between(x,y, color=color, alpha=alpha)\n",
    "    ax.plot_date(x,y,'-',lw=1.5,color=linecolor,alpha=alpha,label=k)\n",
    "    ax.set_ylim([y.min() * .95, y.max() * 1.01])\n",
    "    ax.set_xlim( [x[0],x[-1]])\n",
    "    #ax.set_yscale(\"log\")\n",
    "    ax.yaxis.set_visible(False)\n",
    "    count+=1\n",
    "    ax.xaxis.set_major_formatter(mdates.DateFormatter(\"%Y\"))\n",
    "    ax.xaxis.set_major_locator(mticker.MaxNLocator(nbins=3))\n",
    "    ax.yaxis.set_major_locator(mticker.MaxNLocator(1))\n",
    "    ax.text(x[15], 0.5 * (y.max() + y.min()), s=k,\n",
    "            fontdict=font_dict,\n",
    "            bbox=bbox_props) \n",
    "    [(x.set_color(\"#51A6F9\"), x.set_linewidth(1)) for x in ax.spines.values()]\n",
    "    plt.setp(ax.get_xticklabels(),fontsize=5)\n",
    "fig.tight_layout()\n",
    "fig.subplots_adjust(hspace=0.1)"
   ]
  },
  {
   "cell_type": "code",
   "execution_count": null,
   "metadata": {
    "collapsed": false
   },
   "outputs": [],
   "source": []
  },
  {
   "cell_type": "code",
   "execution_count": null,
   "metadata": {
    "collapsed": true
   },
   "outputs": [],
   "source": []
  }
 ],
 "metadata": {
  "kernelspec": {
   "display_name": "Python [default]",
   "language": "python",
   "name": "python3"
  },
  "language_info": {
   "codemirror_mode": {
    "name": "ipython",
    "version": 3
   },
   "file_extension": ".py",
   "mimetype": "text/x-python",
   "name": "python",
   "nbconvert_exporter": "python",
   "pygments_lexer": "ipython3",
   "version": "3.6.0"
  }
 },
 "nbformat": 4,
 "nbformat_minor": 2
}
